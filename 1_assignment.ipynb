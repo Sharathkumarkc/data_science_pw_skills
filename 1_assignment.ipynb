{
 "cells": [
  {
   "cell_type": "markdown",
   "id": "401e5c35-35c2-45a0-a906-17fbad6e4d89",
   "metadata": {},
   "source": [
    "Q1 creating one variable"
   ]
  },
  {
   "cell_type": "code",
   "execution_count": 1,
   "id": "08f2e8be-9c29-403a-a6dd-e0bdc7a579ee",
   "metadata": {},
   "outputs": [],
   "source": [
    "s = \"bliss \""
   ]
  },
  {
   "cell_type": "code",
   "execution_count": 2,
   "id": "bdb5c1dc-ece9-481c-94a5-bbb88f0bf33d",
   "metadata": {},
   "outputs": [
    {
     "data": {
      "text/plain": [
       "'bliss '"
      ]
     },
     "execution_count": 2,
     "metadata": {},
     "output_type": "execute_result"
    }
   ],
   "source": [
    "s"
   ]
  },
  {
   "cell_type": "code",
   "execution_count": 3,
   "id": "d13919b8-a1e2-4f16-89c1-6ac7fce3bddc",
   "metadata": {},
   "outputs": [
    {
     "data": {
      "text/plain": [
       "str"
      ]
     },
     "execution_count": 3,
     "metadata": {},
     "output_type": "execute_result"
    }
   ],
   "source": [
    "type (s)"
   ]
  },
  {
   "cell_type": "code",
   "execution_count": 4,
   "id": "25481c17-c2d4-42dd-858e-cb1a2a69feb8",
   "metadata": {},
   "outputs": [],
   "source": [
    "l = [ 1,2,3,4,7,8, \"bliss\",\"geology\", True ,1+5j]"
   ]
  },
  {
   "cell_type": "code",
   "execution_count": 5,
   "id": "ec0bc061-5196-457d-b9f8-e007375b2f8d",
   "metadata": {},
   "outputs": [
    {
     "data": {
      "text/plain": [
       "[1, 2, 3, 4, 7, 8, 'bliss', 'geology', True, (1+5j)]"
      ]
     },
     "execution_count": 5,
     "metadata": {},
     "output_type": "execute_result"
    }
   ],
   "source": [
    "l"
   ]
  },
  {
   "cell_type": "code",
   "execution_count": 6,
   "id": "7b7b525f-4ac5-4906-9d42-93cfa6a7927d",
   "metadata": {},
   "outputs": [
    {
     "data": {
      "text/plain": [
       "list"
      ]
     },
     "execution_count": 6,
     "metadata": {},
     "output_type": "execute_result"
    }
   ],
   "source": [
    "type (l)"
   ]
  },
  {
   "cell_type": "code",
   "execution_count": 7,
   "id": "adc8936f-ad81-4321-8282-2dd81dab8483",
   "metadata": {},
   "outputs": [],
   "source": [
    "k = 86.65"
   ]
  },
  {
   "cell_type": "code",
   "execution_count": 8,
   "id": "127a7de0-cdaa-4c01-bbc2-e8f12101b5b9",
   "metadata": {},
   "outputs": [
    {
     "data": {
      "text/plain": [
       "86.65"
      ]
     },
     "execution_count": 8,
     "metadata": {},
     "output_type": "execute_result"
    }
   ],
   "source": [
    "k"
   ]
  },
  {
   "cell_type": "code",
   "execution_count": 9,
   "id": "126ec533-4fe7-422b-b42d-3a9d675b4c7d",
   "metadata": {},
   "outputs": [
    {
     "data": {
      "text/plain": [
       "float"
      ]
     },
     "execution_count": 9,
     "metadata": {},
     "output_type": "execute_result"
    }
   ],
   "source": [
    "type(k)"
   ]
  },
  {
   "cell_type": "code",
   "execution_count": 10,
   "id": "94d6ee9a-b794-457b-a35d-d388146207d6",
   "metadata": {},
   "outputs": [],
   "source": [
    "T = (20 , \"sk\",22.2,[10,20,30])"
   ]
  },
  {
   "cell_type": "code",
   "execution_count": 11,
   "id": "0b3a6bde-aa66-43ec-a830-f1bd7b20c307",
   "metadata": {},
   "outputs": [
    {
     "data": {
      "text/plain": [
       "(20, 'sk', 22.2, [10, 20, 30])"
      ]
     },
     "execution_count": 11,
     "metadata": {},
     "output_type": "execute_result"
    }
   ],
   "source": [
    "T"
   ]
  },
  {
   "cell_type": "code",
   "execution_count": 12,
   "id": "53001452-4d69-41bd-8c13-680c96349cb1",
   "metadata": {},
   "outputs": [
    {
     "data": {
      "text/plain": [
       "tuple"
      ]
     },
     "execution_count": 12,
     "metadata": {},
     "output_type": "execute_result"
    }
   ],
   "source": [
    "type (T)"
   ]
  },
  {
   "cell_type": "markdown",
   "id": "aa2d9d1a-599a-4ac8-93f1-7936d4785a37",
   "metadata": {},
   "source": [
    "Q2. Given are some following variables containing data:"
   ]
  },
  {
   "cell_type": "code",
   "execution_count": 13,
   "id": "f66ebbcb-4088-4b27-bf6d-abcee17d9f15",
   "metadata": {},
   "outputs": [],
   "source": [
    "var1 = ''\n",
    "\n",
    "var2 = '[ DS , ML , Python]'\n",
    "\n",
    "var3 = [ 'DS' , 'ML' , 'Python' ]\n",
    "\n",
    "var4 = 1."
   ]
  },
  {
   "cell_type": "code",
   "execution_count": 14,
   "id": "4d78b45e-9d3b-427f-a77b-2039a20c9a1f",
   "metadata": {},
   "outputs": [
    {
     "data": {
      "text/plain": [
       "str"
      ]
     },
     "execution_count": 14,
     "metadata": {},
     "output_type": "execute_result"
    }
   ],
   "source": [
    "type(var1)"
   ]
  },
  {
   "cell_type": "code",
   "execution_count": 15,
   "id": "905ed9e9-992e-42c3-b079-a5bc7410039e",
   "metadata": {},
   "outputs": [
    {
     "data": {
      "text/plain": [
       "str"
      ]
     },
     "execution_count": 15,
     "metadata": {},
     "output_type": "execute_result"
    }
   ],
   "source": [
    "type(var2)"
   ]
  },
  {
   "cell_type": "code",
   "execution_count": 16,
   "id": "2a6a4e58-3010-4979-aac7-be30b8a3514d",
   "metadata": {},
   "outputs": [
    {
     "data": {
      "text/plain": [
       "list"
      ]
     },
     "execution_count": 16,
     "metadata": {},
     "output_type": "execute_result"
    }
   ],
   "source": [
    "type(var3)\n"
   ]
  },
  {
   "cell_type": "code",
   "execution_count": 17,
   "id": "3b10c42a-3f04-406a-914e-7785a1fdc1ea",
   "metadata": {},
   "outputs": [
    {
     "data": {
      "text/plain": [
       "float"
      ]
     },
     "execution_count": 17,
     "metadata": {},
     "output_type": "execute_result"
    }
   ],
   "source": [
    "type(var4)\n"
   ]
  },
  {
   "cell_type": "markdown",
   "id": "735e9932-9f14-43af-98e3-69eac6068027",
   "metadata": {},
   "source": [
    "Q3 use of the operators"
   ]
  },
  {
   "cell_type": "markdown",
   "id": "686d848a-58d6-4850-9c6b-2d9ca56846ee",
   "metadata": {},
   "source": [
    "division \"/\"\n"
   ]
  },
  {
   "cell_type": "code",
   "execution_count": 18,
   "id": "095e6630-d567-4ceb-97c9-47613f3ee49f",
   "metadata": {},
   "outputs": [],
   "source": [
    "a = 100/2"
   ]
  },
  {
   "cell_type": "code",
   "execution_count": 19,
   "id": "f0a3a837-368a-482c-a64f-e20b59addcd4",
   "metadata": {},
   "outputs": [
    {
     "data": {
      "text/plain": [
       "50.0"
      ]
     },
     "execution_count": 19,
     "metadata": {},
     "output_type": "execute_result"
    }
   ],
   "source": [
    "a"
   ]
  },
  {
   "cell_type": "markdown",
   "id": "f408e27b-e0da-4e27-8472-ab5c1a44a1b0",
   "metadata": {},
   "source": [
    "percentage  \"%\""
   ]
  },
  {
   "cell_type": "code",
   "execution_count": 20,
   "id": "b1dd8b03-85b6-4222-9ecd-74d233a89ba2",
   "metadata": {},
   "outputs": [
    {
     "data": {
      "text/plain": [
       "1"
      ]
     },
     "execution_count": 20,
     "metadata": {},
     "output_type": "execute_result"
    }
   ],
   "source": [
    "3%2"
   ]
  },
  {
   "cell_type": "markdown",
   "id": "ad424909-6efd-4d46-a0c6-120dbe04336d",
   "metadata": {},
   "source": [
    " division flooor number \"//\""
   ]
  },
  {
   "cell_type": "code",
   "execution_count": 21,
   "id": "6c4082a2-a6f2-4266-8660-ce96827d4a68",
   "metadata": {},
   "outputs": [
    {
     "data": {
      "text/plain": [
       "5"
      ]
     },
     "execution_count": 21,
     "metadata": {},
     "output_type": "execute_result"
    }
   ],
   "source": [
    "25//5"
   ]
  },
  {
   "cell_type": "markdown",
   "id": "553c9280-5e85-4031-ba36-c69dc880afcc",
   "metadata": {},
   "source": [
    "power operation \" ** \""
   ]
  },
  {
   "cell_type": "code",
   "execution_count": 22,
   "id": "ac3de757-b0e6-4e87-8e54-8cd56d86bd8d",
   "metadata": {},
   "outputs": [
    {
     "data": {
      "text/plain": [
       "9765625"
      ]
     },
     "execution_count": 22,
     "metadata": {},
     "output_type": "execute_result"
    }
   ],
   "source": [
    "25**5"
   ]
  },
  {
   "cell_type": "markdown",
   "id": "66c52e36-07c1-4c5f-a9f5-4a7f6e80cccb",
   "metadata": {},
   "source": [
    "Q4 list of length 10 multiple types data using for loop print"
   ]
  },
  {
   "cell_type": "code",
   "execution_count": 23,
   "id": "c435d605-957f-4e42-b1e6-6b9d07802cef",
   "metadata": {},
   "outputs": [],
   "source": [
    "l = [ 22,34,56, 78, 22.3 ,0.008, \"karna\",\"hello \",False, True, 1+8j]"
   ]
  },
  {
   "cell_type": "code",
   "execution_count": 24,
   "id": "83b14675-12cb-4ce5-b685-b8be31b3c94b",
   "metadata": {},
   "outputs": [
    {
     "name": "stdout",
     "output_type": "stream",
     "text": [
      "22\n",
      "34\n",
      "56\n",
      "78\n",
      "22.3\n",
      "0.008\n",
      "karna\n",
      "hello \n",
      "False\n",
      "True\n",
      "(1+8j)\n"
     ]
    }
   ],
   "source": [
    "for k in l:\n",
    "    print(k)"
   ]
  },
  {
   "cell_type": "markdown",
   "id": "61c9ee13-4fff-45b3-b720-22677add45c5",
   "metadata": {},
   "source": [
    "Q5 using while loop verif if number A divisiable by B if yes how many times"
   ]
  },
  {
   "cell_type": "code",
   "execution_count": 25,
   "id": "c7c2a3f9-5a0e-4bae-9fab-7ed628237314",
   "metadata": {},
   "outputs": [
    {
     "name": "stdout",
     "output_type": "stream",
     "text": [
      " The number 625 is divisiable by 25\n",
      "It can be divided 1 times.\n",
      " The number 625 is divisiable by 25\n",
      "It can be divided 2 times.\n"
     ]
    }
   ],
   "source": [
    "n = 625\n",
    "i = 25\n",
    "count=0\n",
    "while n % i ==0:\n",
    "    count +=1\n",
    "    n /=i\n",
    "    print(\" The number 625 is divisiable by 25\")\n",
    "    print(\"It can be divided\", count , \"times.\")"
   ]
  },
  {
   "cell_type": "markdown",
   "id": "a803f420-339f-444c-8478-0ec70ee6e42e",
   "metadata": {},
   "source": [
    " Q6. Create a list containing 25 int type data. Using for loop and if-else condition print if the element is \n",
    "divisible by 3 or not.\n"
   ]
  },
  {
   "cell_type": "code",
   "execution_count": 26,
   "id": "6cb94da9-4b7a-49a6-a9c4-57302df11ab3",
   "metadata": {},
   "outputs": [
    {
     "data": {
      "text/plain": [
       "[3, 6, 9, 12, 15, 18, 21, 24]"
      ]
     },
     "execution_count": 26,
     "metadata": {},
     "output_type": "execute_result"
    }
   ],
   "source": [
    "l=[1,2,3,4,5,6,7,8,9,10,11,12,13,14,15,16,17,18,19,20,21,22,23,24,25]\n",
    "l1=[]\n",
    "l2=[]\n",
    "for i in l:\n",
    "    if i%3==0:\n",
    "        l1.append(i)\n",
    "    else:\n",
    "            l2.append(i)\n",
    "l1\n"
   ]
  },
  {
   "cell_type": "code",
   "execution_count": 27,
   "id": "4d8f224c-2e75-474a-9e7c-4c5b0675ba0f",
   "metadata": {},
   "outputs": [
    {
     "data": {
      "text/plain": [
       "[1, 2, 4, 5, 7, 8, 10, 11, 13, 14, 16, 17, 19, 20, 22, 23, 25]"
      ]
     },
     "execution_count": 27,
     "metadata": {},
     "output_type": "execute_result"
    }
   ],
   "source": [
    "l2"
   ]
  },
  {
   "cell_type": "markdown",
   "id": "3f1ee531-caa5-42ed-a538-d59a9c99f86d",
   "metadata": {},
   "source": [
    "Q7. What do you understand about mutable and immutable data types? Give examples for both showing \n",
    "this property."
   ]
  },
  {
   "cell_type": "markdown",
   "id": "9c2d8cd2-0d59-4c68-b54f-8d3c184fe81a",
   "metadata": {},
   "source": [
    "* mutable functon are the function which can be alterd  \n",
    "  example : list"
   ]
  },
  {
   "cell_type": "code",
   "execution_count": 28,
   "id": "736e64bc-1c78-467b-8231-ec8ea0fd8685",
   "metadata": {},
   "outputs": [],
   "source": [
    "f = [1,2,3,4,5,6]"
   ]
  },
  {
   "cell_type": "code",
   "execution_count": 29,
   "id": "adaafa8d-df74-424c-a7d6-def35f8e8c75",
   "metadata": {},
   "outputs": [
    {
     "data": {
      "text/plain": [
       "[1, 2, 3, 4, 5, 6]"
      ]
     },
     "execution_count": 29,
     "metadata": {},
     "output_type": "execute_result"
    }
   ],
   "source": [
    "f"
   ]
  },
  {
   "cell_type": "code",
   "execution_count": 30,
   "id": "5b1179df-dce0-4c62-962c-92c133df4c7c",
   "metadata": {},
   "outputs": [],
   "source": [
    "f[1] = 7"
   ]
  },
  {
   "cell_type": "code",
   "execution_count": 31,
   "id": "3b8c470e-22f1-4a87-92b2-ca075016d263",
   "metadata": {},
   "outputs": [
    {
     "data": {
      "text/plain": [
       "[1, 7, 3, 4, 5, 6]"
      ]
     },
     "execution_count": 31,
     "metadata": {},
     "output_type": "execute_result"
    }
   ],
   "source": [
    "f"
   ]
  },
  {
   "cell_type": "markdown",
   "id": "02c49805-670e-47c1-ab58-ca30b453928f",
   "metadata": {},
   "source": [
    "* Immutable data types are types which cannot be altered\n",
    "* example : Tuple"
   ]
  },
  {
   "cell_type": "code",
   "execution_count": 32,
   "id": "61a197d9-5cf1-4f0e-83b6-fb9954d75dee",
   "metadata": {},
   "outputs": [],
   "source": [
    "a = (1,2,3,4,5,6)"
   ]
  },
  {
   "cell_type": "code",
   "execution_count": 33,
   "id": "dedbb643-d369-4e90-b957-26a75124ea8c",
   "metadata": {},
   "outputs": [
    {
     "data": {
      "text/plain": [
       "(1, 2, 3, 4, 5, 6)"
      ]
     },
     "execution_count": 33,
     "metadata": {},
     "output_type": "execute_result"
    }
   ],
   "source": [
    "a"
   ]
  },
  {
   "cell_type": "code",
   "execution_count": 34,
   "id": "9b6064e4-4f17-46c6-a74e-9791fcca363f",
   "metadata": {},
   "outputs": [
    {
     "ename": "TypeError",
     "evalue": "'tuple' object does not support item assignment",
     "output_type": "error",
     "traceback": [
      "\u001b[0;31m---------------------------------------------------------------------------\u001b[0m",
      "\u001b[0;31mTypeError\u001b[0m                                 Traceback (most recent call last)",
      "Cell \u001b[0;32mIn[34], line 1\u001b[0m\n\u001b[0;32m----> 1\u001b[0m \u001b[43ma\u001b[49m\u001b[43m[\u001b[49m\u001b[38;5;241;43m2\u001b[39;49m\u001b[43m]\u001b[49m \u001b[38;5;241m=\u001b[39m \u001b[38;5;241m3\u001b[39m\n",
      "\u001b[0;31mTypeError\u001b[0m: 'tuple' object does not support item assignment"
     ]
    }
   ],
   "source": [
    "a[2] = 3"
   ]
  },
  {
   "cell_type": "code",
   "execution_count": null,
   "id": "8be7eea0-29fb-4e63-990d-88a18bc446fb",
   "metadata": {},
   "outputs": [],
   "source": []
  }
 ],
 "metadata": {
  "kernelspec": {
   "display_name": "Python 3 (ipykernel)",
   "language": "python",
   "name": "python3"
  },
  "language_info": {
   "codemirror_mode": {
    "name": "ipython",
    "version": 3
   },
   "file_extension": ".py",
   "mimetype": "text/x-python",
   "name": "python",
   "nbconvert_exporter": "python",
   "pygments_lexer": "ipython3",
   "version": "3.10.8"
  }
 },
 "nbformat": 4,
 "nbformat_minor": 5
}
