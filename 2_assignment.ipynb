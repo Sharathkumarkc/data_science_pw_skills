{
 "cells": [
  {
   "cell_type": "markdown",
   "id": "792720a7-631a-44d2-8191-b41ab20c9bd7",
   "metadata": {},
   "source": [
    "**Q1. How do you comment code in Python? What are the different types of comments?**"
   ]
  },
  {
   "cell_type": "code",
   "execution_count": 1,
   "id": "d7863b72-de71-4037-9c1c-249b44f1c4a8",
   "metadata": {},
   "outputs": [
    {
     "name": "stdout",
     "output_type": "stream",
     "text": [
      "Hello World\n"
     ]
    }
   ],
   "source": [
    "\n",
    "print(\"Hello World\") # Printing \"Hello World\"\n",
    "# 1, single line comment\n",
    "# 2, multiline comment"
   ]
  },
  {
   "cell_type": "markdown",
   "id": "d1d373cc-46ad-425d-9fb4-04421e73b280",
   "metadata": {},
   "source": [
    "**Q2. What are variables in Python? How do you declare and assign values to variables?**"
   ]
  },
  {
   "cell_type": "markdown",
   "id": "d976dbe0-c1d9-423b-b65f-4a59f80b90e2",
   "metadata": {},
   "source": [
    "In Python, variables are used to store and manipulate data. A variable is essentially a name that represents a value in memory. It allows you to store data of various types such as numbers, strings, lists, or objects.\n",
    "\n",
    "To declare a variable in Python, you simply need to choose a name for it and assign a value to it using the assignment operator (=). Here's an example of declaring a variable called age and assigning it the value 25:\n",
    "\n",
    "age = 25\n",
    "\n",
    "\n",
    "You can also declare multiple variables in a single line by separating them with commas. For example:\n",
    "\n",
    "name = \"John\"\n",
    "age = 30\n",
    "\n",
    "Here, two variables name and age are declared and assigned different values.\n",
    "\n",
    "\n",
    "age = 25\n",
    "print(age)  # Output: 25\n",
    "\n",
    "age = 30  # Assigning a new value\n",
    "print(age)  # Output: 30\n",
    "\n",
    "In this example, the variable age is initially assigned the value 25. Later, it is reassigned the value 30, and when you print its value, you get the updated value."
   ]
  },
  {
   "cell_type": "markdown",
   "id": "58c200e8-7854-42f8-a21e-0fbc0ad436d7",
   "metadata": {},
   "source": [
    "**Q3. How do you convert one data type to another in Python?**"
   ]
  },
  {
   "cell_type": "markdown",
   "id": "d4bb2119-b06e-4cf3-949c-d39a84a8b69c",
   "metadata": {},
   "source": [
    "In Python, you can convert one data type to another using type conversion functions or constructors. Here are some common ways to convert data types:\n",
    "\n",
    "1.Integer to Float or String:\n",
    "\n",
    "num_int = 10\n",
    "\n",
    "num_float = float(num_int)  # Converts integer to float\n",
    "\n",
    "num_str = str(num_int)     # Converts integer to string\n",
    "\n",
    "2.Float to Integer or String:\n",
    "\n",
    "num_float = 10.5\n",
    "\n",
    "num_int = int(num_float)    # Converts float to integer (truncates decimal part)\n",
    "\n",
    "num_str = str(num_float)    # Converts float to string\n",
    "\n",
    "3.String to Integer or Float:\n",
    "\n",
    "num_str = \"10\"\n",
    "\n",
    "num_int = int(num_str)      # Converts string to integer\n",
    "\n",
    "num_float = float(num_str)  # Converts string to float\n",
    "\n",
    "4.List or Tuple to String:\n",
    "\n",
    "my_list = [1, 2, 3]\n",
    "my_tuple = (4, 5, 6)\n",
    "\n",
    "list_str = str(my_list)    # Converts list to string\n",
    "\n",
    "tuple_str = str(my_tuple)  # Converts tuple to string\n"
   ]
  },
  {
   "cell_type": "markdown",
   "id": "6ea647ea-a292-4a28-9a30-0e0848d5ed82",
   "metadata": {},
   "source": [
    "**Q4. How do you write and execute a Python script from the command line?**"
   ]
  },
  {
   "cell_type": "markdown",
   "id": "be24551f-1f34-4268-8399-9c0b66100704",
   "metadata": {},
   "source": [
    "Open a text editor (e.g., Notepad, Sublime Text, Visual Studio Code) and create a new file.\n",
    "\n",
    "Write your Python code in the text editor. For example, let's create a simple script that prints \"Hello, World!\":\n",
    "\n",
    "print(\"Hello, World!\")\n",
    "Save the file with a .py extension. For example, save it as hello.py.\n",
    "\n",
    "Open the command line or terminal on your computer.\n",
    "\n",
    "Navigate to the directory where the Python script is saved. You can use the cd command to change directories. For example, if the script is saved on the desktop:\n",
    "\n",
    "cd Desktop\n",
    "Once you are in the correct directory, you can execute the Python script using the python command followed by the name of the script file:\n",
    "\n",
    "python hello.py\n",
    "This will run the Python script, and the output will be displayed in the command line:\n",
    "\n",
    "Hello, World!"
   ]
  },
  {
   "cell_type": "markdown",
   "id": "17889ba3-a5eb-4bb7-a61d-c49bd5749a23",
   "metadata": {},
   "source": [
    "**Q5. Given a list my_list = [1, 2, 3, 4, 5], write the code to slice the list and obtain the sub-list [2, 3]**"
   ]
  },
  {
   "cell_type": "code",
   "execution_count": 3,
   "id": "e655bf3e-0221-4888-b838-8b214e2471be",
   "metadata": {},
   "outputs": [
    {
     "data": {
      "text/plain": [
       "[2, 3]"
      ]
     },
     "execution_count": 3,
     "metadata": {},
     "output_type": "execute_result"
    }
   ],
   "source": [
    "mylist = [1,2,3,4,5]\n",
    "li = mylist[1:3]\n",
    "li"
   ]
  },
  {
   "cell_type": "markdown",
   "id": "c39c1184-baad-4137-b0ef-4228e07608c1",
   "metadata": {},
   "source": [
    "**Q6. What is a complex number in mathematics, and how is it represented in Python?**"
   ]
  },
  {
   "cell_type": "markdown",
   "id": "107fe9a0-c7e3-403b-b2a9-32db24c195c0",
   "metadata": {},
   "source": [
    "In mathematics, a complex number is a number of the form \"a + bi,\" where \"a\" and \"b\" are real numbers, and \"i\" represents the imaginary unit. The imaginary unit is defined as the square root of -1, denoted as \"i\" or \"j\" in different contexts.\n",
    "\n",
    "The real part of a complex number, \"a,\" represents the horizontal component, while the imaginary part, \"b,\" represents the vertical component. Complex numbers are often visualized on a complex plane, where the real axis corresponds to the horizontal direction and the imaginary axis corresponds to the vertical direction."
   ]
  },
  {
   "cell_type": "markdown",
   "id": "98be88ce-abfd-4ec8-95a0-b41db6df8455",
   "metadata": {},
   "source": [
    "For example, to create the complex number 3 + 2i in Python, you can write:\n",
    "\n",
    "z = complex(3, 2)\n",
    "or\n",
    "\n",
    "z = 3 + 2j"
   ]
  },
  {
   "cell_type": "markdown",
   "id": "1ef08ba9-81eb-47fc-9b9b-d7945b6687a8",
   "metadata": {},
   "source": [
    "**Q7. What is the correct way to declare a variable named age and assign the value 25 to it?**"
   ]
  },
  {
   "cell_type": "markdown",
   "id": "37297694-6a30-4119-93af-1468787d9eec",
   "metadata": {},
   "source": [
    "In Python, you can declare a variable named \"age\" and assign the value 25 to it using the following syntax:\n",
    "\n",
    "age = 25\n",
    "\n",
    "This line of code declares a variable named \"age\" and assigns the value 25 to it. The variable is automatically assigned the appropriate data type based on the value assigned to it (in this case, an integer)."
   ]
  },
  {
   "cell_type": "markdown",
   "id": "0ac67b22-0525-4829-943f-94a4d16165da",
   "metadata": {},
   "source": [
    "**Q8. Declare a variable named price and assign the value 9.99 to it. What data type does this variable belong to?**"
   ]
  },
  {
   "cell_type": "markdown",
   "id": "2a6e7e27-d98d-40bb-857c-e0d43445c7c5",
   "metadata": {},
   "source": [
    "ans price = 9.99 datatype = float\n",
    "\n"
   ]
  },
  {
   "cell_type": "markdown",
   "id": "b0b47043-98bf-40ba-9381-b6a9dd6daee0",
   "metadata": {},
   "source": [
    "**Q9. Create a variable named name and assign your full name to it as a string. How would you print the value of this variable?**"
   ]
  },
  {
   "cell_type": "code",
   "execution_count": 7,
   "id": "699f7560-0135-411c-9f77-db2548cf390e",
   "metadata": {},
   "outputs": [
    {
     "name": "stdout",
     "output_type": "stream",
     "text": [
      "SharathKumar K C\n"
     ]
    }
   ],
   "source": [
    "Name = \"SharathKumar K C\"\n",
    "print(Name)"
   ]
  },
  {
   "cell_type": "markdown",
   "id": "d04af2d0-8b23-400f-b04c-7c4c7ecdc629",
   "metadata": {},
   "source": [
    "**Q10. Given the string \"Hello, World!\", extract the substring \"World\".**"
   ]
  },
  {
   "cell_type": "code",
   "execution_count": 8,
   "id": "62b8fd84-b43e-42dc-a376-fb7ae80a3d74",
   "metadata": {},
   "outputs": [
    {
     "name": "stdout",
     "output_type": "stream",
     "text": [
      "World\n"
     ]
    }
   ],
   "source": [
    "str = \"Hello, World!\"\n",
    "str1 = str[7:12]\n",
    "print(str1)"
   ]
  },
  {
   "cell_type": "markdown",
   "id": "cf994062-3f31-4a29-91e1-924042b4e9f1",
   "metadata": {},
   "source": [
    "**Q11. Create a variable named \"is_student\" and assign it a boolean value indicating whether you are currently a student or not**"
   ]
  },
  {
   "cell_type": "markdown",
   "id": "5593c41e-af84-4a3b-ae98-a4839c893247",
   "metadata": {},
   "source": [
    "is_student = True\n",
    "\n",
    "In this example, the variable \"is_student\" is assigned the boolean value True to indicate that you are currently a student. If you are not a student, you can assign the value False instead:\n",
    "\n",
    "is_student = False\n",
    "\n"
   ]
  },
  {
   "cell_type": "code",
   "execution_count": null,
   "id": "15dd8d57-b62a-4a58-84de-c33271a23365",
   "metadata": {},
   "outputs": [],
   "source": []
  }
 ],
 "metadata": {
  "kernelspec": {
   "display_name": "Python 3 (ipykernel)",
   "language": "python",
   "name": "python3"
  },
  "language_info": {
   "codemirror_mode": {
    "name": "ipython",
    "version": 3
   },
   "file_extension": ".py",
   "mimetype": "text/x-python",
   "name": "python",
   "nbconvert_exporter": "python",
   "pygments_lexer": "ipython3",
   "version": "3.10.8"
  }
 },
 "nbformat": 4,
 "nbformat_minor": 5
}
